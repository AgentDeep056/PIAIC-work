{
 "cells": [
  {
   "cell_type": "markdown",
   "metadata": {},
   "source": [
    "# Officail Assignment No 1"
   ]
  },
  {
   "cell_type": "raw",
   "metadata": {},
   "source": [
    "given on 05-june-2019\n",
    "Name: Muhammad Anas\n",
    "Roll No: AIC006045\n",
    "Instructor: Sir Nasir Hussain\n",
    "Campus: SMIT Gulshan\n",
    "Day/Time: Saturday @ 9am-12pm"
   ]
  },
  {
   "cell_type": "markdown",
   "metadata": {},
   "source": [
    "## 1. Calculate Area of a Circle"
   ]
  },
  {
   "cell_type": "markdown",
   "metadata": {},
   "source": [
    "#### Write a Python program which accepts the radius of a circle from the user and compute the area.\n",
    "###### Program Console Sample Output 1:\n",
    "###### Input Radius: 0.5\n",
    "###### Area of Circle with radius 0.5 is 0.7853981634"
   ]
  },
  {
   "cell_type": "code",
   "execution_count": 1,
   "metadata": {},
   "outputs": [
    {
     "name": "stdout",
     "output_type": "stream",
     "text": [
      "Enter Radius = 0.5\n",
      "Area of Circle with radius 0.5 is 0.7853981633974483\n"
     ]
    }
   ],
   "source": [
    "import math\n",
    "Pi=math.pi\n",
    "r = float(input(\"Enter Radius = \" ))\n",
    "print ( \"Area of Circle with radius \" + str(r) + \" is \" +  str(Pi * r**2) )"
   ]
  },
  {
   "cell_type": "markdown",
   "metadata": {},
   "source": [
    "## 2. Check Number either positive, negative or zero"
   ]
  },
  {
   "cell_type": "markdown",
   "metadata": {},
   "source": [
    "#### Write a Python program to check if a number is positive, negative or zero\n",
    "###### Program Console Sample Output 1:\n",
    "###### Enter Number: -1\n",
    "##### Negative Number Entered\n",
    "###### Program Console Sample Output 2:\n",
    "##### Integer: 3\n",
    "##### Positive Number Entered\n",
    "###### Program Console Sample Output 3:\n",
    "##### Integer: 0\n",
    "###### Zero Entered"
   ]
  },
  {
   "cell_type": "code",
   "execution_count": 2,
   "metadata": {},
   "outputs": [
    {
     "name": "stdout",
     "output_type": "stream",
     "text": [
      "Enter an Number : -1\n",
      "Negative Number Entered\n"
     ]
    }
   ],
   "source": [
    "Number = input(\"Enter an Number : \")\n",
    "if (int(Number) == 0 ):\n",
    "    print(\"Zero Entered\")\n",
    "\n",
    "if (int(Number) > 0 ):\n",
    "    print(\"Positive Number Entered\")\n",
    "if (int(Number) < 0 ):\n",
    "    print(\"Negative Number Entered\")"
   ]
  },
  {
   "cell_type": "markdown",
   "metadata": {},
   "source": [
    "## 3. Divisibility Check of two numbers"
   ]
  },
  {
   "cell_type": "markdown",
   "metadata": {},
   "source": [
    "#### Write a Python program to check whether a number is completely divisible by another number. Accept two integer values form the user\n",
    "##### Program Console Sample Output 1:\n",
    "###### Enter numerator: 4\n",
    "###### Enter Denominator: 2\n",
    "##### Number 4 is Completely divisible by 2\n",
    "###### Program Console Sample Output 2:\n",
    "##### Enter numerator: 7\n",
    "\n",
    "##### Enter Denominator: 4\n",
    "###### Number 7 is not Completely divisible by 4"
   ]
  },
  {
   "cell_type": "code",
   "execution_count": 1,
   "metadata": {},
   "outputs": [
    {
     "name": "stdout",
     "output_type": "stream",
     "text": [
      "Enter Numerator : 7\n",
      "Enter Denominator : 4\n",
      "Number 7 is not Completely divisible by 4\n"
     ]
    }
   ],
   "source": [
    "Nu = input(\"Enter Numerator : \")\n",
    "De = input(\"Enter Denominator : \")\n",
    "\n",
    "if (int(Nu) % int(De) == 0 ):\n",
    "    print( \"Number \" + str(Nu) + \" is Completely divisible by \" + str(De) )\n",
    "else:\n",
    "    print( \"Number \" + str(Nu) + \" is not Completely divisible by \" + str(De) )"
   ]
  },
  {
   "cell_type": "markdown",
   "metadata": {},
   "source": [
    "## 4. Calculate Volume of a sphere"
   ]
  },
  {
   "cell_type": "markdown",
   "metadata": {},
   "source": [
    "##### Write a Python program to get the volume of a sphere, please take the radius as input from user"
   ]
  },
  {
   "cell_type": "markdown",
   "metadata": {},
   "source": [
    "##### Program Console Output:\n",
    "##### Enter Radius of Sphere: 1\n",
    "###### Volume of the Sphere with Radius 1 is 4.18"
   ]
  },
  {
   "cell_type": "code",
   "execution_count": 2,
   "metadata": {},
   "outputs": [
    {
     "name": "stdout",
     "output_type": "stream",
     "text": [
      "Enter Radius of Sphere = 1\n",
      "Volume of Sphere with radius 1.0 is 4.1887902047863905\n"
     ]
    }
   ],
   "source": [
    "import math\n",
    "Pi=math.pi\n",
    "r = float(input(\"Enter Radius of Sphere = \" ))\n",
    "print ( \"Volume of Sphere with radius \" + str(r) + \" is \" +  str(4/3 * Pi * r**3) )"
   ]
  },
  {
   "cell_type": "markdown",
   "metadata": {},
   "source": [
    "## 5. Copy string n times\n",
    "#### Write a Python program to get a string which is n (non-negative integer) copies of a given string.\n",
    "##### Program Console Output:\n",
    "##### Enter String: Hi\n",
    "###### How many copies of String you need: 4\n",
    "###### 4 Copies of Hi are HiHiHiHi"
   ]
  },
  {
   "cell_type": "code",
   "execution_count": 3,
   "metadata": {},
   "outputs": [
    {
     "name": "stdout",
     "output_type": "stream",
     "text": [
      "Enter String : Hi\n",
      "How many copies of String you need : 4\n",
      "4 Copies of Hi are HiHiHiHi\n"
     ]
    }
   ],
   "source": [
    "St = input(\"Enter String : \")\n",
    "Cps = input(\"How many copies of String you need : \")\n",
    "\n",
    "print ( str(Cps) + \" Copies of \" + str(St) + \" are \" + int(Cps) * str(St) )"
   ]
  },
  {
   "cell_type": "markdown",
   "metadata": {},
   "source": [
    "## 6. Check if number is Even or Odd\n",
    "### Write a Python program to find whether a given number (accept from the user) is even or odd, print out an appropriate message to the user\n",
    "#### Program Console Output 1:\n",
    "##### Enter Number: 4\n",
    "###### 4 is Even\n",
    "#### Program Console Output 2:\n",
    "##### Enter Number: 9\n",
    "###### 9 is Odd"
   ]
  },
  {
   "cell_type": "code",
   "execution_count": 4,
   "metadata": {},
   "outputs": [
    {
     "name": "stdout",
     "output_type": "stream",
     "text": [
      "Enter Number : 9\n",
      "9 is Odd \n"
     ]
    }
   ],
   "source": [
    "Num = input(\"Enter Number : \")\n",
    "\n",
    "if (int(Num)%2 == 0):\n",
    "    print( str(Num) + \" is Even \" )\n",
    "else:\n",
    "    print( str(Num) + \" is Odd \" )"
   ]
  },
  {
   "cell_type": "markdown",
   "metadata": {},
   "source": [
    "## 7. Vowel Tester\n",
    "### Write a Python program to test whether a passed letter is a vowel or not\n",
    "#### Program Console Output 1:\n",
    "##### Enter a character: A\n",
    "###### Letter A is Vowel\n",
    "#### Program Console Output 2:\n",
    "##### Enter a character: e\n",
    "###### Letter e is Vowel\n",
    "#### Program Console Output 2:\n",
    "##### Enter a character: N\n",
    "###### Letter N is not Vowel"
   ]
  },
  {
   "cell_type": "code",
   "execution_count": 5,
   "metadata": {},
   "outputs": [
    {
     "name": "stdout",
     "output_type": "stream",
     "text": [
      "Enter a character:  N\n",
      " Letter N is Not Vowel \n"
     ]
    }
   ],
   "source": [
    "vowels = str( [ 'a', 'e', 'i', 'o', 'u', 'A', 'E', 'I', 'O', 'U'])\n",
    "Nm = input (str (\"Enter a character:  \"))\n",
    "\n",
    "if ( str(Num) in str(vowels)):\n",
    "    print( \"Letter \" + str(Nm) + \" is Vowel \" )\n",
    "else:\n",
    "    print( \" Letter \" + str(Nm) + \" is Not Vowel \" )"
   ]
  },
  {
   "cell_type": "markdown",
   "metadata": {},
   "source": [
    "## 8. Triangle area\n",
    "### Write a Python program that will accept the base and height of a triangle and compute the area\n",
    "###### Reference:\n",
    "https://www.mathgoodies.com/lessons/vol1/area_triangle"
   ]
  },
  {
   "cell_type": "code",
   "execution_count": 6,
   "metadata": {},
   "outputs": [
    {
     "name": "stdout",
     "output_type": "stream",
     "text": [
      "Enter Base : 2\n",
      "Enter Height : 3\n",
      "The Area of Triangle is : 3.0\n"
     ]
    }
   ],
   "source": [
    "base = float( input(\"Enter Base : \"))\n",
    "height = float( input(\"Enter Height : \"))\n",
    "\n",
    "print (\"The Area of Triangle is : \" + str(1/2 * base * height) )"
   ]
  },
  {
   "cell_type": "markdown",
   "metadata": {},
   "source": [
    "## 9. Calculate Interest\n",
    "### Write a Python program to compute the future value of a specified principal amount, rate of interest, and a number of years\n",
    "#### Program Console Sample 1:\n",
    "##### Please enter principal amount: 10000\n",
    "###### Please Enter Rate of interest in %: 0.1\n",
    "###### Enter number of years for investment: 5\n",
    "###### After 5 years your principal amount 10000 over an interest rate of 0.1 % will be 16105.1"
   ]
  },
  {
   "cell_type": "code",
   "execution_count": 7,
   "metadata": {},
   "outputs": [
    {
     "name": "stdout",
     "output_type": "stream",
     "text": [
      "Please enter principal amount : 10000\n",
      "Please Enter Rate of interest in % : 0.1\n",
      "Enter number of years for investment: 5\n",
      " After 5 years your principal amount 10000 over an interest rate of 0.1 will be: 16105.1\n"
     ]
    }
   ],
   "source": [
    "amt = int( input(\"Please enter principal amount : \"))\n",
    "inte = float( input(\"Please Enter Rate of interest in % : \"))\n",
    "inv = int( input(\"Enter number of years for investment: \"))\n",
    "\n",
    "tot = round( amt*((1+(inte)) ** inv), 3 )\n",
    "\n",
    "print(\" After \"+str(inv)+\" years your principal amount \"+str(amt)+\" over an interest rate of \"+str(inte)+\" will be: \"+str(tot))"
   ]
  },
  {
   "cell_type": "markdown",
   "metadata": {},
   "source": [
    "## 10. Euclidean distance\n",
    "### write a Python program to compute the distance between the points (x1, y1) and (x2, y2).\n",
    "#### Program Console Sample 1:\n",
    "###### Enter Co-ordinate for x1: 2\n",
    "###### Enter Co-ordinate for x2: 4\n",
    "###### Enter Co-ordinate for y1: 4\n",
    "###### Enter Co-ordinate for y2: 4\n",
    "###### Distance between points (2, 4) and (4, 4) is 2"
   ]
  },
  {
   "cell_type": "markdown",
   "metadata": {},
   "source": [
    "###### Reference:\n",
    "https://en.wikipedia.org/wiki/Euclidean_distance"
   ]
  },
  {
   "cell_type": "code",
   "execution_count": 8,
   "metadata": {},
   "outputs": [
    {
     "name": "stdout",
     "output_type": "stream",
     "text": [
      "Enter Co-ordinate for X1 : 2\n",
      "Enter Co-ordinate for X2 : 4\n",
      "Enter Co-ordinate for Y1 : 4\n",
      "Enter Co-ordinate for Y2 : 4\n",
      " Distance between points (2,4) and (4,4) is 2\n"
     ]
    }
   ],
   "source": [
    "x1 = int( input(\"Enter Co-ordinate for X1 : \"))\n",
    "x2 = int( input(\"Enter Co-ordinate for X2 : \"))\n",
    "y1 = int( input(\"Enter Co-ordinate for Y1 : \"))\n",
    "y2 = int( input(\"Enter Co-ordinate for Y2 : \"))\n",
    "\n",
    "dis = int(((x2-x1)**2 + (y2-y1)**2 )**1/2)\n",
    "\n",
    "print( \" Distance between points (\"+ str(x1) +\",\"+ str(x2) +\") and (\"+ str(y1) +\",\"+ str(y2) +\") is \"+ str(dis) )"
   ]
  },
  {
   "cell_type": "markdown",
   "metadata": {},
   "source": [
    "## 11. Feet to Centimeter Converter\n",
    "### Write a Python program to convert height in feet to centimetres.\n",
    "##### Program Console Sample 1:\n",
    "###### Enter Height in Feet: 5\n",
    "###### There are 152.4 Cm in 5 ft\n",
    "###### Reference:\n",
    "https://www.rapidtables.com/convert/length/feet-to-cm.html"
   ]
  },
  {
   "cell_type": "code",
   "execution_count": 11,
   "metadata": {},
   "outputs": [
    {
     "name": "stdout",
     "output_type": "stream",
     "text": [
      "Enter Height in Feet : 5\n",
      " There are 152.4 Cm is 5.0 ft\n"
     ]
    }
   ],
   "source": [
    "HinF = float( input(\"Enter Height in Feet : \"))\n",
    "\n",
    "HinCm = round (HinF * 30.48 , 2)\n",
    "\n",
    "print( \" There are \" + str(HinCm) + \" Cm is \" + str(HinF) + \" ft\" )"
   ]
  },
  {
   "cell_type": "markdown",
   "metadata": {},
   "source": [
    "## 12. BMI Calculator\n",
    "### Write a Python program to calculate body mass index\n",
    "##### Program Console Sample 1:\n",
    "###### Enter Height in Cm: 180\n",
    "###### Enter Weight in Kg: 75\n",
    "###### Your BMI is 23.15"
   ]
  },
  {
   "cell_type": "code",
   "execution_count": 12,
   "metadata": {},
   "outputs": [
    {
     "name": "stdout",
     "output_type": "stream",
     "text": [
      "Enter Height in Cm : 180\n",
      "Enter Weight in Kg : 75\n",
      "Your BMI is 23.15\n"
     ]
    }
   ],
   "source": [
    "H_Cm = float ( input(\"Enter Height in Cm : \"))\n",
    "H_M =  H_Cm / 100 \n",
    "\n",
    "W = float ( input (\"Enter Weight in Kg : \"))\n",
    "\n",
    "BMI = round (W / H_M**2, 2)\n",
    "\n",
    "print (\"Your BMI is \" + str(BMI) )"
   ]
  },
  {
   "cell_type": "markdown",
   "metadata": {},
   "source": [
    "## 13. Sum of n Positive Integers\n",
    "### Write a python program to sum of the first n positive integers\n",
    "#### Program Console Sample 1:\n",
    "###### Enter value of n: 5\n",
    "###### Sum of n Positive integers till 5 is 15"
   ]
  },
  {
   "cell_type": "code",
   "execution_count": 13,
   "metadata": {},
   "outputs": [
    {
     "name": "stdout",
     "output_type": "stream",
     "text": [
      "Enter value of n: 5\n",
      " Sum of n Positive integers till 5 is 15\n"
     ]
    }
   ],
   "source": [
    "n = int( input(\"Enter value of n: \"))\n",
    "m = n\n",
    "sum = 0\n",
    "while (n > 0):\n",
    "    sum += n\n",
    "    n -= 1\n",
    "\n",
    "print( \" Sum of n Positive integers till \" + str(m) + \" is \" + str(sum) )"
   ]
  },
  {
   "cell_type": "markdown",
   "metadata": {},
   "source": [
    "## 14. Digits Sum of a Number\n",
    "### Write a Python program to calculate the sum of the digits in an integer\n",
    "#### Program Console Sample 1:\n",
    "##### Enter a number: 15\n",
    "###### Sum of 1 + 5 is 6\n",
    "#### Program Console Sample 2:\n",
    "##### Enter a number: 1234\n",
    "###### Sum of 1 + 2 + 3 + 4 is 10"
   ]
  },
  {
   "cell_type": "code",
   "execution_count": 14,
   "metadata": {},
   "outputs": [
    {
     "name": "stdout",
     "output_type": "stream",
     "text": [
      "Enter value of n: 1234\n",
      "Sum of 1 + 2 + 3 + 4 is : 10\n"
     ]
    }
   ],
   "source": [
    "num = int( input(\"Enter value of n: \"))\n",
    "n1 = num // 1000\n",
    "n2 = (num - n1*1000 ) // 100\n",
    "n3 = (num - n1*1000 - n2*100 ) // 10\n",
    "n4 = (num - n1*1000 - n2*100 - n3*10 )\n",
    "n = n1 + n2 + n3 + n4\n",
    "\n",
    "print (\"Sum of \"+ str(n1) +\" + \"+ str(n2) +\" + \"+ str(n3) +\" + \"+ str(n4) +\" is : \"+ str(n) )"
   ]
  },
  {
   "cell_type": "code",
   "execution_count": null,
   "metadata": {},
   "outputs": [],
   "source": []
  }
 ],
 "metadata": {
  "kernelspec": {
   "display_name": "Python 3",
   "language": "python",
   "name": "python3"
  },
  "language_info": {
   "codemirror_mode": {
    "name": "ipython",
    "version": 3
   },
   "file_extension": ".py",
   "mimetype": "text/x-python",
   "name": "python",
   "nbconvert_exporter": "python",
   "pygments_lexer": "ipython3",
   "version": "3.7.3"
  }
 },
 "nbformat": 4,
 "nbformat_minor": 2
}
