{
 "cells": [
  {
   "cell_type": "markdown",
   "metadata": {},
   "source": [
    "# Practice Assignment No 2"
   ]
  },
  {
   "cell_type": "raw",
   "metadata": {},
   "source": [
    "given on 26-May-2019\n",
    "Name: Muhammad Anas\n",
    "Roll No: AIC006045\n",
    "Instructor: Sir Nasir Hussain\n",
    "Campus: SMIT Gulshan\n",
    "Day/Time: Saturday @ 9am-12pm"
   ]
  },
  {
   "cell_type": "code",
   "execution_count": 1,
   "metadata": {},
   "outputs": [
    {
     "name": "stdout",
     "output_type": "stream",
     "text": [
      "\n",
      "What Daily Tasks have yo done? \n",
      " >Wake Up\n",
      "['Breakfast', 'Uni Classes', 'Lunch', 'Power Nap', 'Prayer Time', 'Play Time', 'Study', 'Sleep']\n",
      "['Wake Up']\n",
      "\n",
      "What Daily Tasks have yo done? \n",
      " >Study\n",
      "['Breakfast', 'Uni Classes', 'Lunch', 'Power Nap', 'Prayer Time', 'Play Time', 'Sleep']\n",
      "['Wake Up', 'Study']\n",
      "\n",
      "What Daily Tasks have yo done? \n",
      " >Uni Classes\n",
      "['Breakfast', 'Lunch', 'Power Nap', 'Prayer Time', 'Play Time', 'Sleep']\n",
      "['Wake Up', 'Study', 'Uni Classes']\n",
      "\n",
      "What Daily Tasks have yo done? \n",
      " >Breakfast\n",
      "['Lunch', 'Power Nap', 'Prayer Time', 'Play Time', 'Sleep']\n",
      "['Wake Up', 'Study', 'Uni Classes', 'Breakfast']\n",
      "\n",
      "What Daily Tasks have yo done? \n",
      " >Power Nap\n",
      "['Lunch', 'Prayer Time', 'Play Time', 'Sleep']\n",
      "['Wake Up', 'Study', 'Uni Classes', 'Breakfast', 'Power Nap']\n",
      "\n",
      "What Daily Tasks have yo done? \n",
      " >Prayer Time\n",
      "['Lunch', 'Play Time', 'Sleep']\n",
      "['Wake Up', 'Study', 'Uni Classes', 'Breakfast', 'Power Nap', 'Prayer Time']\n",
      "\n",
      "What Daily Tasks have yo done? \n",
      " >Lunch\n",
      "['Play Time', 'Sleep']\n",
      "['Wake Up', 'Study', 'Uni Classes', 'Breakfast', 'Power Nap', 'Prayer Time', 'Lunch']\n",
      "\n",
      "What Daily Tasks have yo done? \n",
      " >PLay TIme\n",
      "This task in not in the List\n",
      "\n",
      "What Daily Tasks have yo done? \n",
      " >Play Time\n",
      "['Sleep']\n",
      "['Wake Up', 'Study', 'Uni Classes', 'Breakfast', 'Power Nap', 'Prayer Time', 'Lunch', 'Play Time']\n",
      "\n",
      "What Daily Tasks have yo done? \n",
      " >Sleep\n",
      "[]\n",
      "['Wake Up', 'Study', 'Uni Classes', 'Breakfast', 'Power Nap', 'Prayer Time', 'Lunch', 'Play Time', 'Sleep']\n",
      "Congo! you have complete your To Do List\n"
     ]
    }
   ],
   "source": [
    "to_do = ['Wake Up', 'Breakfast', 'Uni Classes', 'Lunch', 'Power Nap', 'Prayer Time', 'Play Time', 'Study', 'Sleep']\n",
    "to_done = []\n",
    "\n",
    "if len(to_do) != 0:\n",
    "    while len(to_do) > 0:\n",
    "        to = input(\"\\nWhat Daily Tasks have yo done? \\n >\")\n",
    "        if to in to_do:\n",
    "            do = to_do.index(to)\n",
    "            to_do.pop(do)\n",
    "            to_done.append(to)\n",
    "            print(to_do)\n",
    "            print(to_done)\n",
    "        else:\n",
    "            print(\"This task in not in the List\")\n",
    "\n",
    "    if len(to_do) == 0:\n",
    "            print(\"Congo! you have complete your To Do List\")"
   ]
  },
  {
   "cell_type": "code",
   "execution_count": null,
   "metadata": {},
   "outputs": [],
   "source": []
  }
 ],
 "metadata": {
  "kernelspec": {
   "display_name": "Python 3",
   "language": "python",
   "name": "python3"
  },
  "language_info": {
   "codemirror_mode": {
    "name": "ipython",
    "version": 3
   },
   "file_extension": ".py",
   "mimetype": "text/x-python",
   "name": "python",
   "nbconvert_exporter": "python",
   "pygments_lexer": "ipython3",
   "version": "3.7.3"
  }
 },
 "nbformat": 4,
 "nbformat_minor": 2
}
