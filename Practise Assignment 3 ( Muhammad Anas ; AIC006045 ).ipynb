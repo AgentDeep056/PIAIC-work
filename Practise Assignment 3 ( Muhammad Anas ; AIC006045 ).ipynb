{
 "cells": [
  {
   "cell_type": "markdown",
   "metadata": {},
   "source": [
    "# Practice Assignment No 3"
   ]
  },
  {
   "cell_type": "raw",
   "metadata": {},
   "source": [
    "given on 26-June-2019\n",
    "Name: Muhammad Anas\n",
    "Roll No: AIC006045\n",
    "Instructor: Sir Nasir Hussain\n",
    "Campus: SMIT Gulshan\n",
    "Day/Time: Saturday @ 9am-12pm"
   ]
  },
  {
   "cell_type": "markdown",
   "metadata": {},
   "source": [
    "# Q1:"
   ]
  },
  {
   "cell_type": "markdown",
   "metadata": {},
   "source": [
    "Think of at least three kinds of your favorite pizza. Store these pizza names in a list, and then use a for loop to print the name of each pizza."
   ]
  },
  {
   "cell_type": "code",
   "execution_count": 5,
   "metadata": {},
   "outputs": [
    {
     "name": "stdout",
     "output_type": "stream",
     "text": [
      "Fajita Sicilian\n",
      "Afghani Tikka\n",
      "Spicy Ranch\n"
     ]
    }
   ],
   "source": [
    "pizza = [ \"Fajita Sicilian\" , \"Afghani Tikka\" , \"Spicy Ranch\" ]\n",
    "for p in pizza:\n",
    "    print(p)"
   ]
  },
  {
   "cell_type": "markdown",
   "metadata": {},
   "source": [
    "# Q2"
   ]
  },
  {
   "cell_type": "markdown",
   "metadata": {},
   "source": [
    "Start with your last question , Modify your for loop to print a sentence using the name of the pizza\n",
    "instead of printing just the name of the pizza. For each pizza you should\n",
    "have one line of output containing a simple statement like I like pepperoni\n",
    "pizza."
   ]
  },
  {
   "cell_type": "code",
   "execution_count": 7,
   "metadata": {},
   "outputs": [
    {
     "name": "stdout",
     "output_type": "stream",
     "text": [
      "I Like Fajita Sicilian\n",
      "I Like Afghani Tikka\n",
      "I Like Spicy Ranch\n"
     ]
    }
   ],
   "source": [
    "for p in pizza:\n",
    "    print(\"I Like \"+ p )"
   ]
  },
  {
   "cell_type": "markdown",
   "metadata": {},
   "source": [
    "# Q3:"
   ]
  },
  {
   "cell_type": "markdown",
   "metadata": {},
   "source": [
    "Use a for loop to print the numbers from 1 to 20,\n",
    "inclusive."
   ]
  },
  {
   "cell_type": "code",
   "execution_count": 17,
   "metadata": {},
   "outputs": [
    {
     "name": "stdout",
     "output_type": "stream",
     "text": [
      "1\n",
      "2\n",
      "3\n",
      "4\n",
      "5\n",
      "6\n",
      "7\n",
      "8\n",
      "9\n",
      "10\n",
      "11\n",
      "12\n",
      "13\n",
      "14\n",
      "15\n",
      "16\n",
      "17\n",
      "18\n",
      "19\n",
      "20\n"
     ]
    }
   ],
   "source": [
    "for i in range(1,21):\n",
    "    print(i)"
   ]
  },
  {
   "cell_type": "markdown",
   "metadata": {},
   "source": [
    "# Q4:"
   ]
  },
  {
   "cell_type": "markdown",
   "metadata": {},
   "source": [
    "Use the third argument of the range() function to make a list\n",
    "of the odd numbers from 1 to 20. Use a for loop to print each number."
   ]
  },
  {
   "cell_type": "code",
   "execution_count": 18,
   "metadata": {},
   "outputs": [
    {
     "name": "stdout",
     "output_type": "stream",
     "text": [
      "1\n",
      "3\n",
      "5\n",
      "7\n",
      "9\n",
      "11\n",
      "13\n",
      "15\n",
      "17\n",
      "19\n"
     ]
    }
   ],
   "source": [
    "for i in range(1,21,2):\n",
    "    print(i)"
   ]
  },
  {
   "cell_type": "markdown",
   "metadata": {},
   "source": [
    "# Q5:"
   ]
  },
  {
   "cell_type": "markdown",
   "metadata": {},
   "source": [
    "Make a list of the multiples of 3 from 3 to 30. Use a for loop to\n",
    "print the numbers in your list."
   ]
  },
  {
   "cell_type": "code",
   "execution_count": 23,
   "metadata": {},
   "outputs": [
    {
     "name": "stdout",
     "output_type": "stream",
     "text": [
      "3\n",
      "6\n",
      "9\n",
      "12\n",
      "15\n",
      "18\n",
      "21\n",
      "24\n",
      "27\n"
     ]
    }
   ],
   "source": [
    "for i in range(3,30,3):              #cause it says 3 to 30, so i didnt take 31\n",
    "    print(i)"
   ]
  },
  {
   "cell_type": "markdown",
   "metadata": {},
   "source": [
    "# Q6:"
   ]
  },
  {
   "cell_type": "markdown",
   "metadata": {},
   "source": [
    "A number raised to the third power is called a cube. For example,\n",
    "the cube of 2 is written as 2**3 in Python. Make a list of the first 10 cubes (that\n",
    "is, the cube of each integer from 1 through 10), and use a for loop to print out\n",
    "the value of each cube"
   ]
  },
  {
   "cell_type": "code",
   "execution_count": 24,
   "metadata": {},
   "outputs": [
    {
     "name": "stdout",
     "output_type": "stream",
     "text": [
      "1\n",
      "8\n",
      "27\n",
      "64\n",
      "125\n",
      "216\n",
      "343\n",
      "512\n",
      "729\n",
      "1000\n"
     ]
    }
   ],
   "source": [
    "for i in range(1,11):\n",
    "    print(i**3)"
   ]
  },
  {
   "cell_type": "markdown",
   "metadata": {},
   "source": [
    "# Q7:"
   ]
  },
  {
   "cell_type": "markdown",
   "metadata": {},
   "source": [
    "###### Make a python program that conatains your nine favourite dishes in a list called foods.\n",
    "\n",
    "###### Print the message, The first three items in the list are:. \n",
    "###### Then use a slice to print the first three items from that program’s list.\n",
    "\n",
    "###### Print the message, Three items from the middle of the list are:\n",
    "###### Use a slice to print three items from the middle of the list.\n",
    "\n",
    "###### Print the message, The last three items in the list are:\n",
    "###### Use a slice to print the last three items in the list."
   ]
  },
  {
   "cell_type": "code",
   "execution_count": 1,
   "metadata": {},
   "outputs": [
    {
     "name": "stdout",
     "output_type": "stream",
     "text": [
      "The first three items in the list are:\n",
      "['dish1', 'dish2', 'dish3']\n",
      "\n",
      "Three items from the middle of the list are:\n",
      "['dish4', 'dish5', 'dish6']\n",
      "\n",
      "The last three items in the list are:\n",
      "['dish7', 'dish8', 'dish9']\n"
     ]
    }
   ],
   "source": [
    "foods = [\"dish1\", \"dish2\", \"dish3\", \"dish4\", \"dish5\", \"dish6\", \"dish7\", \"dish8\", \"dish9\"]       #cause time is precious\n",
    "\n",
    "print(\"The first three items in the list are:\")\n",
    "print(foods[0:3])\n",
    "\n",
    "print(\"\\nThree items from the middle of the list are:\")\n",
    "print(foods[3:6])\n",
    "\n",
    "print(\"\\nThe last three items in the list are:\")\n",
    "print(foods[6:9])"
   ]
  },
  {
   "cell_type": "markdown",
   "metadata": {},
   "source": [
    "# Q8:"
   ]
  },
  {
   "cell_type": "markdown",
   "metadata": {},
   "source": [
    "### Start with your program from your last Question8.\n",
    "###### Make a copy of the list of foods, and call it friend_foods.\n",
    "###### Then, do the following:\n",
    "######    Add a new dish to the original list.\n",
    "######    Add a different dish to the list friend_foodss.\n",
    "######    Prove that you have two separate lists. \n",
    "###### Print the message, My favorite pizzas are: and then use a for loop to print the first list. \n",
    "###### Print the message,\n",
    "###### My friend’s favorite foods are:, and then use a for loop to print the second list.\n",
    "    \n",
    "##### NOTE: Make sure each new dish is stored in the appropriate list."
   ]
  },
  {
   "cell_type": "code",
   "execution_count": 41,
   "metadata": {},
   "outputs": [
    {
     "name": "stdout",
     "output_type": "stream",
     "text": [
      "My favorite foods are:\n",
      "\n",
      "dish1\n",
      "dish2\n",
      "dish3\n",
      "dish4\n",
      "dish5\n",
      "dish6\n",
      "dish7\n",
      "dish8\n",
      "dish9\n",
      "dish10\n",
      "\n",
      "\n",
      "My friend's favorite foods are:\n",
      "\n",
      "dish1\n",
      "dish2\n",
      "dish3\n",
      "dish4\n",
      "dish5\n",
      "dish6\n",
      "dish7\n",
      "dish8\n",
      "dish9\n",
      "dish11\n"
     ]
    }
   ],
   "source": [
    "foods = [\"dish1\", \"dish2\", \"dish3\", \"dish4\", \"dish5\", \"dish6\", \"dish7\", \"dish8\", \"dish9\"]\n",
    "friend_foods = [\"dish1\", \"dish2\", \"dish3\", \"dish4\", \"dish5\", \"dish6\", \"dish7\", \"dish8\", \"dish9\"]\n",
    "\n",
    "foods.append(\"dish10\")\n",
    "\n",
    "friend_foods.append(\"dish11\")\n",
    "\n",
    "print(\"My favorite foods are:\\n\")\n",
    "for f in foods:\n",
    "    print(f)\n",
    "    \n",
    "print(\"\\n\\nMy friend's favorite foods are:\\n\")\n",
    "for F in friend_foods:\n",
    "    print(F)"
   ]
  },
  {
   "cell_type": "markdown",
   "metadata": {},
   "source": [
    "# Q9:"
   ]
  },
  {
   "cell_type": "markdown",
   "metadata": {},
   "source": [
    "Take a user input from console line.Store it in a variable called Alien_color.\n",
    "\n",
    "If the alien’s color is red, print a statement that the player just earned 5 points for shooting the alien.\n",
    "\n",
    "If the alien’s color isn’t green, print a statement that the player just earned 10 points.\n",
    "\n",
    "If the alien's color isn't red or green , print a statment :, Alien is no more....."
   ]
  },
  {
   "cell_type": "code",
   "execution_count": 12,
   "metadata": {},
   "outputs": [
    {
     "name": "stdout",
     "output_type": "stream",
     "text": [
      "Enter a colour : green\n",
      "Alien is no more\n"
     ]
    }
   ],
   "source": [
    "user = input(\"Enter a colour : \")\n",
    "Alien_color = user\n",
    "\n",
    "if (Alien_color == \"red\"):\n",
    "    print(\"you have just earned 5 points for shooting the alien\")\n",
    "elif(Alien_color != \"green\"):\n",
    "    print(\"you have just earned 10 points\")\n",
    "else:\n",
    "    print(\"Alien is no more\")"
   ]
  },
  {
   "cell_type": "markdown",
   "metadata": {},
   "source": [
    "# Q10:"
   ]
  },
  {
   "cell_type": "markdown",
   "metadata": {},
   "source": [
    "Write an if-elif-else chain that determines a person’s\n",
    "stage of life. Set a value for the variable age, and then:\n",
    "    \n",
    "•\t If the person is less than 2 years old, print a message that the person is a baby.\n",
    "\n",
    "•\t If the person is at least 2 years old but less than 4, print a message that the person is a toddler.\n",
    "\n",
    "•\t If the person is at least 4 years old but less than 13, print a message that the person is a kid.\n",
    "\n",
    "•\t If the person is at least 13 years old but less than 20, print a message that the person is a teenager.\n",
    "\n",
    "•\t If the person is at least 20 years old but less than 65, print a message that the person is an adult.\n",
    "\n",
    "•\t If the person is age 65 or older, print a message that the person is an elder."
   ]
  },
  {
   "cell_type": "code",
   "execution_count": 25,
   "metadata": {},
   "outputs": [
    {
     "name": "stdout",
     "output_type": "stream",
     "text": [
      "Enter your age : 21\n",
      "You are an Adult\n"
     ]
    }
   ],
   "source": [
    "age = int(input(\"Enter your age : \"))\n",
    "\n",
    "if (age < 2 ):\n",
    "    print(\"You are an Baby\")\n",
    "elif (age >= 2 and age < 4 ):\n",
    "    print(\"You are an Toddler\")\n",
    "elif (age >= 4 and age < 13 ):\n",
    "    print(\"You are an Kid\")\n",
    "elif (age >= 13 and age < 20 ):\n",
    "    print(\"You are an Teenager\")\n",
    "elif (age >= 20 and age < 65 ):\n",
    "    print(\"You are an Adult\")\n",
    "elif (age >= 65 ):\n",
    "    print(\"You are an Elder\")    "
   ]
  },
  {
   "cell_type": "markdown",
   "metadata": {},
   "source": [
    "# Q11:"
   ]
  },
  {
   "cell_type": "markdown",
   "metadata": {},
   "source": [
    "Do the following to create a program that simulates how websites ensure that everyone has a unique username.\n",
    "\n",
    "•\t Make a list of five or more usernames called current_users.\n",
    "\n",
    "•\t Make another list of five usernames called new_users. \n",
    "Make sure one or two of the new usernames are also in the current_users list.\n",
    "\n",
    "•\t Loop through the new_users list to see if each new username has already been used. \n",
    "If it has, print a message that the person will need to enter a new username. \n",
    "If a username has not been used, print a message saying that the username is available.\n",
    "\n",
    "•\t Make sure your comparison is case insensitive. If 'John' has been used, 'JOHN' should not be accepted."
   ]
  },
  {
   "cell_type": "code",
   "execution_count": 13,
   "metadata": {},
   "outputs": [
    {
     "name": "stdout",
     "output_type": "stream",
     "text": [
      "user_1: the username is available\n",
      "user_e: its already in use you need to enter a new username\n",
      "user_2: the username is available\n",
      "user_3: the username is available\n",
      "user_u: its already in use you need to enter a new username\n"
     ]
    }
   ],
   "source": [
    "current_users = [\"user_a\", \"user_e\", \"user_i\", \"user_o\", \"user_u\"]\n",
    "new_users = [\"user_1\", \"user_e\", \"user_2\", \"user_3\", \"user_U\"]\n",
    "\n",
    "current_users = [users.lower() for users in current_users]\n",
    "new_users = [user.lower() for user in new_users]\n",
    "\n",
    "for user in new_users:\n",
    "    if user in current_users :\n",
    "        print(f'{user}: its already in use you need to enter a new username')\n",
    "    else:\n",
    "        print(f'{user}: the username is available')"
   ]
  },
  {
   "cell_type": "markdown",
   "metadata": {},
   "source": [
    "# Q12:"
   ]
  },
  {
   "cell_type": "markdown",
   "metadata": {},
   "source": [
    "Use a dictionary to store information about a person you know.\n",
    "Store their first name, last name, age, and the city in which they live. \n",
    "You should have keys such as first_name, last_name, age, and city. \n",
    "Print each piece of information stored in your dictionary"
   ]
  },
  {
   "cell_type": "code",
   "execution_count": 47,
   "metadata": {},
   "outputs": [
    {
     "name": "stdout",
     "output_type": "stream",
     "text": [
      "first_name : Muhammad\n",
      "last_name : Anas\n",
      "age : 21\n",
      "city : Karachi\n"
     ]
    }
   ],
   "source": [
    "my_dctnry = {'first_name': 'Muhammad', 'last_name': 'Anas' , 'age': 21 , 'city': 'Karachi' }\n",
    "\n",
    "for my,info in my_dctnry.items():\n",
    "    print(my ,\":\", info)"
   ]
  },
  {
   "cell_type": "markdown",
   "metadata": {},
   "source": [
    "# Q13:"
   ]
  },
  {
   "cell_type": "markdown",
   "metadata": {},
   "source": [
    "Starts with your last question 12 , loop through the dictionary’s keys and values.\n",
    "When you’re sure that your loop works, add five more Python terms to your\n",
    "dictionary . When you run your program again, these new words and meanings\n",
    "should automatically be included in the output."
   ]
  },
  {
   "cell_type": "code",
   "execution_count": 1,
   "metadata": {},
   "outputs": [
    {
     "name": "stdout",
     "output_type": "stream",
     "text": [
      "first_name : Muhammad\n",
      "last_name : Anas\n",
      "age : 21\n",
      "city : Karachi\n"
     ]
    }
   ],
   "source": [
    "my_dctnry = {'first_name': 'Muhammad', 'last_name': 'Anas' , 'age': 21 , 'city': 'Karachi' }\n",
    "\n",
    "for my,info in my_dctnry.items():\n",
    "    print(my ,\":\", info)                      # accidently did this in q12 "
   ]
  },
  {
   "cell_type": "code",
   "execution_count": 3,
   "metadata": {},
   "outputs": [
    {
     "name": "stdout",
     "output_type": "stream",
     "text": [
      "first_name : Muhammad\n",
      "last_name : Anas\n",
      "age : 21\n",
      "city : Karachi\n",
      "DoB : 05-Jan-1998\n",
      "Education : Undergraduate\n",
      "status : single\n",
      "Colour : Orange\n",
      "Language : Urdu\n"
     ]
    }
   ],
   "source": [
    "my_dctnry['DoB'] = '05-Jan-1998'\n",
    "my_dctnry['Education'] = 'Undergraduate'\n",
    "my_dctnry['status'] = 'single'\n",
    "my_dctnry['Colour'] = 'Orange'\n",
    "my_dctnry['Language'] = 'Urdu'\n",
    "\n",
    "for my,info in my_dctnry.items():\n",
    "    print(my ,\":\", info)  "
   ]
  },
  {
   "cell_type": "markdown",
   "metadata": {},
   "source": [
    "# Q14:"
   ]
  },
  {
   "cell_type": "markdown",
   "metadata": {},
   "source": [
    "Make a dictionary containing three major rivers and the country\n",
    "each river runs through. One key-value pair might be 'nile': 'egypt'.\n",
    "    \n",
    "    \n",
    "•\t Use a loop to print a sentence about each river, such as The Nile runs\n",
    "through Egypt.\n",
    "\n",
    "NOTE: use upper case through keys and values."
   ]
  },
  {
   "cell_type": "code",
   "execution_count": 5,
   "metadata": {},
   "outputs": [
    {
     "name": "stdout",
     "output_type": "stream",
     "text": [
      "The AMAZON runs through BRAZIL.\n",
      "The WHITE NILE runs through RAWANDA.\n",
      "The NELSON runs through CANADA.\n"
     ]
    }
   ],
   "source": [
    "river = {'Amazon':'Brazil', 'White Nile':'Rawanda', 'Nelson':'Canada'}\n",
    "\n",
    "for k,v in river.items():\n",
    "    print(\"The \"+ k.upper() +\" runs through \"+ v.upper() +\".\")"
   ]
  },
  {
   "cell_type": "markdown",
   "metadata": {},
   "source": [
    "# Q15:"
   ]
  },
  {
   "cell_type": "markdown",
   "metadata": {},
   "source": [
    "Make several dictionaries, where the name of each dictionary is the\n",
    "name of a pet. In each dictionary, include the kind of animal and the owner’s\n",
    "name. Store these dictionaries in a list called pets. Next, loop through your list\n",
    "and as you do print everything you know about each pet."
   ]
  },
  {
   "cell_type": "code",
   "execution_count": 34,
   "metadata": {},
   "outputs": [
    {
     "name": "stdout",
     "output_type": "stream",
     "text": [
      "Kind : Fishs\n",
      "Owner : Hammad\n",
      "\n",
      "Kind : Reptiles\n",
      "Owner : Hassaan\n",
      "\n",
      "Kind : Birds\n",
      "Owner : Kaka\n",
      "\n",
      "Kind : Mammals\n",
      "Owner : Aslam\n",
      "\n"
     ]
    }
   ],
   "source": [
    "pets =[]\n",
    "fish = {'Kind':'Fishs', 'Owner':'Hammad'}\n",
    "pets.append(fish)\n",
    "turtle = {'Kind':'Reptiles', 'Owner':'Hassaan'}\n",
    "pets.append(turtle)\n",
    "parrots = {'Kind':'Birds', 'Owner':'Kaka'}\n",
    "pets.append(parrots)\n",
    "goat = {'Kind':'Mammals', 'Owner':'Aslam'}\n",
    "pets.append(goat)\n",
    "\n",
    "for pet in pets:\n",
    "    for k,v in pet.items():\n",
    "        print(k ,\":\", v)\n",
    "    print(\"\")"
   ]
  }
 ],
 "metadata": {
  "kernelspec": {
   "display_name": "Python 3",
   "language": "python",
   "name": "python3"
  },
  "language_info": {
   "codemirror_mode": {
    "name": "ipython",
    "version": 3
   },
   "file_extension": ".py",
   "mimetype": "text/x-python",
   "name": "python",
   "nbconvert_exporter": "python",
   "pygments_lexer": "ipython3",
   "version": "3.7.3"
  }
 },
 "nbformat": 4,
 "nbformat_minor": 2
}
